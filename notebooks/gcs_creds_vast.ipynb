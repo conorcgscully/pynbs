{
 "cells": [
  {
   "cell_type": "markdown",
   "id": "1b6bd73a",
   "metadata": {},
   "source": [
    "gcloud config get-value project\n",
    "\n",
    "gcloud iam service-accounts create cloud-uploader --display-name=\"Cloud GCS Uploader\"\n",
    "\n",
    "gcloud projects add-iam-policy-binding $(gcloud config get-value project) --member=\"serviceAccount:cloud-uploader@$(gcloud config get-value project).iam.gserviceaccount.com\" --role=\"roles/storage.objectAdmin\"\n",
    "\n",
    "gcloud iam service-accounts keys create ~/cloud-gcs-key.json \\\n",
    "    --iam-account=cloud-uploader@$(gcloud config get-value project).iam.gserviceaccount.com"
   ]
  },
  {
   "cell_type": "code",
   "execution_count": null,
   "id": "fd762c1b",
   "metadata": {},
   "outputs": [],
   "source": [
    "gcloud iam service-accounts create vast-uploader \\\n",
    "    --display-name=\"Vast.ai GCS Uploader\""
   ]
  }
 ],
 "metadata": {
  "kernelspec": {
   "display_name": "dsci",
   "language": "python",
   "name": "python3"
  },
  "language_info": {
   "name": "python",
   "version": "3.12.0"
  }
 },
 "nbformat": 4,
 "nbformat_minor": 5
}
